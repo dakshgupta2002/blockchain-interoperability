{
 "cells": [
  {
   "cell_type": "code",
   "execution_count": 33,
   "id": "9dc3b96f",
   "metadata": {},
   "outputs": [],
   "source": [
    "import math\n",
    "import numpy as np\n",
    "import pandas as pd\n",
    "import matplotlib.pyplot as plt"
   ]
  },
  {
   "cell_type": "code",
   "execution_count": 34,
   "id": "b28e2e68",
   "metadata": {},
   "outputs": [
    {
     "data": {
      "text/plain": [
       "(1146, 9)"
      ]
     },
     "execution_count": 34,
     "metadata": {},
     "output_type": "execute_result"
    }
   ],
   "source": [
    "result = pd.read_csv(\"shastaTron.csv\")\n",
    "result.shape"
   ]
  },
  {
   "cell_type": "code",
   "execution_count": 35,
   "id": "83693f4e",
   "metadata": {},
   "outputs": [
    {
     "data": {
      "text/html": [
       "<div>\n",
       "<style scoped>\n",
       "    .dataframe tbody tr th:only-of-type {\n",
       "        vertical-align: middle;\n",
       "    }\n",
       "\n",
       "    .dataframe tbody tr th {\n",
       "        vertical-align: top;\n",
       "    }\n",
       "\n",
       "    .dataframe thead th {\n",
       "        text-align: right;\n",
       "    }\n",
       "</style>\n",
       "<table border=\"1\" class=\"dataframe\">\n",
       "  <thead>\n",
       "    <tr style=\"text-align: right;\">\n",
       "      <th></th>\n",
       "      <th>block_confirmation</th>\n",
       "      <th>Confirmed_time</th>\n",
       "    </tr>\n",
       "  </thead>\n",
       "  <tbody>\n",
       "    <tr>\n",
       "      <th>0</th>\n",
       "      <td>Confirmed by 83 blocks</td>\n",
       "      <td>4 mins 43 secs ago</td>\n",
       "    </tr>\n",
       "    <tr>\n",
       "      <th>1</th>\n",
       "      <td>Confirmed by 54 blocks</td>\n",
       "      <td>3 mins 10 secs ago</td>\n",
       "    </tr>\n",
       "    <tr>\n",
       "      <th>2</th>\n",
       "      <td>Confirmed by 50 blocks</td>\n",
       "      <td>2 mins 56 secs ago</td>\n",
       "    </tr>\n",
       "    <tr>\n",
       "      <th>3</th>\n",
       "      <td>Confirmed by 64 blocks</td>\n",
       "      <td>3 mins 47 secs ago</td>\n",
       "    </tr>\n",
       "    <tr>\n",
       "      <th>4</th>\n",
       "      <td>Confirmed by 23 blocks</td>\n",
       "      <td>1 min 16 secs ago</td>\n",
       "    </tr>\n",
       "    <tr>\n",
       "      <th>5</th>\n",
       "      <td>Confirmed by 54 blocks</td>\n",
       "      <td>3 mins 9 secs ago</td>\n",
       "    </tr>\n",
       "    <tr>\n",
       "      <th>6</th>\n",
       "      <td>Confirmed by 86 blocks</td>\n",
       "      <td>5 mins 4 secs ago</td>\n",
       "    </tr>\n",
       "    <tr>\n",
       "      <th>7</th>\n",
       "      <td>Confirmed by 77 blocks</td>\n",
       "      <td>4 mins 27 secs ago</td>\n",
       "    </tr>\n",
       "    <tr>\n",
       "      <th>8</th>\n",
       "      <td>Confirmed by 46 blocks</td>\n",
       "      <td>2 mins 45 secs ago</td>\n",
       "    </tr>\n",
       "    <tr>\n",
       "      <th>9</th>\n",
       "      <td>Confirmed by 38 blocks</td>\n",
       "      <td>2 mins 4 secs ago</td>\n",
       "    </tr>\n",
       "  </tbody>\n",
       "</table>\n",
       "</div>"
      ],
      "text/plain": [
       "       block_confirmation      Confirmed_time\n",
       "0  Confirmed by 83 blocks  4 mins 43 secs ago\n",
       "1  Confirmed by 54 blocks  3 mins 10 secs ago\n",
       "2  Confirmed by 50 blocks  2 mins 56 secs ago\n",
       "3  Confirmed by 64 blocks  3 mins 47 secs ago\n",
       "4  Confirmed by 23 blocks   1 min 16 secs ago\n",
       "5  Confirmed by 54 blocks   3 mins 9 secs ago\n",
       "6  Confirmed by 86 blocks   5 mins 4 secs ago\n",
       "7  Confirmed by 77 blocks  4 mins 27 secs ago\n",
       "8  Confirmed by 46 blocks  2 mins 45 secs ago\n",
       "9  Confirmed by 38 blocks   2 mins 4 secs ago"
      ]
     },
     "execution_count": 35,
     "metadata": {},
     "output_type": "execute_result"
    }
   ],
   "source": [
    "kk = result[[\"block_confirmation\",\"Confirmed_time\"]]\n",
    "kk.head(10)"
   ]
  },
  {
   "cell_type": "code",
   "execution_count": 36,
   "id": "e9a9490b",
   "metadata": {},
   "outputs": [],
   "source": [
    "def block(k):\n",
    "    if k!=k:\n",
    "        return 0\n",
    "    return int(k[13:15])\n",
    "\n",
    "def timec(k):\n",
    "    r=0\n",
    "    i=0\n",
    "    j=\"\"\n",
    "    while k[i]!=\" \":\n",
    "        j+=k[i]\n",
    "        i+=1\n",
    "    if k[i+1]==\"m\":\n",
    "        r=int(j)*60\n",
    "    elif k[i+1]==\"s\":\n",
    "        return int(j)\n",
    "    i+=1\n",
    "    while k[i]!=\" \":\n",
    "        i+=1\n",
    "    if k[i+1]==\"a\":\n",
    "        return r\n",
    "    j=\"\"\n",
    "    i+=1\n",
    "    while k[i]!=\" \":\n",
    "        j+=k[i]\n",
    "        i+=1\n",
    "    return r+int(j)"
   ]
  },
  {
   "cell_type": "code",
   "execution_count": 37,
   "id": "58821874",
   "metadata": {},
   "outputs": [],
   "source": [
    "arr = []\n",
    "for i in range(0,result.shape[0]):\n",
    "    d = block(result['block_confirmation'].iloc[i])\n",
    "    if d!=0:\n",
    "        t=timec((result['Confirmed_time'].iloc[i]))\n",
    "        arr.append(7 * t / d)"
   ]
  },
  {
   "cell_type": "code",
   "execution_count": 38,
   "id": "4bb67b9d",
   "metadata": {},
   "outputs": [
    {
     "data": {
      "text/html": [
       "<div>\n",
       "<style scoped>\n",
       "    .dataframe tbody tr th:only-of-type {\n",
       "        vertical-align: middle;\n",
       "    }\n",
       "\n",
       "    .dataframe tbody tr th {\n",
       "        vertical-align: top;\n",
       "    }\n",
       "\n",
       "    .dataframe thead th {\n",
       "        text-align: right;\n",
       "    }\n",
       "</style>\n",
       "<table border=\"1\" class=\"dataframe\">\n",
       "  <thead>\n",
       "    <tr style=\"text-align: right;\">\n",
       "      <th></th>\n",
       "      <th>0</th>\n",
       "    </tr>\n",
       "  </thead>\n",
       "  <tbody>\n",
       "    <tr>\n",
       "      <th>count</th>\n",
       "      <td>1018.000000</td>\n",
       "    </tr>\n",
       "    <tr>\n",
       "      <th>mean</th>\n",
       "      <td>26.305858</td>\n",
       "    </tr>\n",
       "    <tr>\n",
       "      <th>std</th>\n",
       "      <td>21.165783</td>\n",
       "    </tr>\n",
       "    <tr>\n",
       "      <th>min</th>\n",
       "      <td>21.000000</td>\n",
       "    </tr>\n",
       "    <tr>\n",
       "      <th>25%</th>\n",
       "      <td>23.722222</td>\n",
       "    </tr>\n",
       "    <tr>\n",
       "      <th>50%</th>\n",
       "      <td>24.220307</td>\n",
       "    </tr>\n",
       "    <tr>\n",
       "      <th>75%</th>\n",
       "      <td>24.782282</td>\n",
       "    </tr>\n",
       "    <tr>\n",
       "      <th>max</th>\n",
       "      <td>256.200000</td>\n",
       "    </tr>\n",
       "  </tbody>\n",
       "</table>\n",
       "</div>"
      ],
      "text/plain": [
       "                 0\n",
       "count  1018.000000\n",
       "mean     26.305858\n",
       "std      21.165783\n",
       "min      21.000000\n",
       "25%      23.722222\n",
       "50%      24.220307\n",
       "75%      24.782282\n",
       "max     256.200000"
      ]
     },
     "execution_count": 38,
     "metadata": {},
     "output_type": "execute_result"
    }
   ],
   "source": [
    "df = pd.DataFrame(arr)\n",
    "df.describe()\n",
    "\n",
    "# 7 CONFIRMATIONS"
   ]
  },
  {
   "cell_type": "code",
   "execution_count": 39,
   "id": "83289779",
   "metadata": {},
   "outputs": [
    {
     "data": {
      "image/png": "[encoded data removed]",
      "text/plain": [
       "<Figure size 432x288 with 1 Axes>"
      ]
     },
     "metadata": {
      "needs_background": "light"
     },
     "output_type": "display_data"
    }
   ],
   "source": [
    "plt.hist(arr, bins = [20.5,21,21.5,22,22.5,23,23.5,24,24.5,25,26,27]) \n",
    "plt.title(\"histogram\") \n",
    "plt.show()"
   ]
  },
  {
   "cell_type": "code",
   "execution_count": 40,
   "id": "eef88563",
   "metadata": {},
   "outputs": [
    {
     "data": {
      "text/plain": [
       "array([[<AxesSubplot:title={'center':'0'}>]], dtype=object)"
      ]
     },
     "execution_count": 40,
     "metadata": {},
     "output_type": "execute_result"
    },
    {
     "data": {
      "image/png": "[encoded data removed]",
      "text/plain": [
       "<Figure size 432x288 with 1 Axes>"
      ]
     },
     "metadata": {
      "needs_background": "light"
     },
     "output_type": "display_data"
    }
   ],
   "source": [
    "df.hist(bins=5)"
   ]
  },
  {
   "cell_type": "code",
   "execution_count": 41,
   "id": "b41884d0",
   "metadata": {},
   "outputs": [],
   "source": [
    "ar = []\n",
    "for i in range(0,result.shape[0]):\n",
    "    d = block(result['block_confirmation'].iloc[i])\n",
    "    if d!=0:\n",
    "        t=timec((result['Confirmed_time'].iloc[i]))\n",
    "        ar.append(12 * t / d)"
   ]
  },
  {
   "cell_type": "code",
   "execution_count": 42,
   "id": "2d92415d",
   "metadata": {},
   "outputs": [
    {
     "data": {
      "text/html": [
       "<div>\n",
       "<style scoped>\n",
       "    .dataframe tbody tr th:only-of-type {\n",
       "        vertical-align: middle;\n",
       "    }\n",
       "\n",
       "    .dataframe tbody tr th {\n",
       "        vertical-align: top;\n",
       "    }\n",
       "\n",
       "    .dataframe thead th {\n",
       "        text-align: right;\n",
       "    }\n",
       "</style>\n",
       "<table border=\"1\" class=\"dataframe\">\n",
       "  <thead>\n",
       "    <tr style=\"text-align: right;\">\n",
       "      <th></th>\n",
       "      <th>0</th>\n",
       "    </tr>\n",
       "  </thead>\n",
       "  <tbody>\n",
       "    <tr>\n",
       "      <th>count</th>\n",
       "      <td>1018.000000</td>\n",
       "    </tr>\n",
       "    <tr>\n",
       "      <th>mean</th>\n",
       "      <td>45.095757</td>\n",
       "    </tr>\n",
       "    <tr>\n",
       "      <th>std</th>\n",
       "      <td>36.284199</td>\n",
       "    </tr>\n",
       "    <tr>\n",
       "      <th>min</th>\n",
       "      <td>36.000000</td>\n",
       "    </tr>\n",
       "    <tr>\n",
       "      <th>25%</th>\n",
       "      <td>40.666667</td>\n",
       "    </tr>\n",
       "    <tr>\n",
       "      <th>50%</th>\n",
       "      <td>41.520525</td>\n",
       "    </tr>\n",
       "    <tr>\n",
       "      <th>75%</th>\n",
       "      <td>42.483912</td>\n",
       "    </tr>\n",
       "    <tr>\n",
       "      <th>max</th>\n",
       "      <td>439.200000</td>\n",
       "    </tr>\n",
       "  </tbody>\n",
       "</table>\n",
       "</div>"
      ],
      "text/plain": [
       "                 0\n",
       "count  1018.000000\n",
       "mean     45.095757\n",
       "std      36.284199\n",
       "min      36.000000\n",
       "25%      40.666667\n",
       "50%      41.520525\n",
       "75%      42.483912\n",
       "max     439.200000"
      ]
     },
     "execution_count": 42,
     "metadata": {},
     "output_type": "execute_result"
    }
   ],
   "source": [
    "df = pd.DataFrame(ar)\n",
    "df.describe()\n",
    "\n",
    "# 12 CONFIRMATIONS"
   ]
  },
  {
   "cell_type": "code",
   "execution_count": 43,
   "id": "9eeebe6e",
   "metadata": {},
   "outputs": [
    {
     "data": {
      "image/png": "[encoded data removed]",
      "text/plain": [
       "<Figure size 432x288 with 1 Axes>"
      ]
     },
     "metadata": {
      "needs_background": "light"
     },
     "output_type": "display_data"
    }
   ],
   "source": [
    "plt.hist(ar, bins = [36,37,38,38.5,39,39.5,40,40.5,41,41.5,42,42.5,43,44,45,47,50]) \n",
    "plt.title(\"histogram\") \n",
    "plt.show()"
   ]
  },
  {
   "cell_type": "code",
   "execution_count": 44,
   "id": "92dd2c78",
   "metadata": {},
   "outputs": [
    {
     "data": {
      "text/plain": [
       "array([[<AxesSubplot:title={'center':'0'}>]], dtype=object)"
      ]
     },
     "execution_count": 44,
     "metadata": {},
     "output_type": "execute_result"
    },
    {
     "data": {
      "image/png": "[encoded data removed]",
      "text/plain": [
       "<Figure size 432x288 with 1 Axes>"
      ]
     },
     "metadata": {
      "needs_background": "light"
     },
     "output_type": "display_data"
    }
   ],
   "source": [
    "df.hist(bins=5)"
   ]
  },
  {
   "cell_type": "code",
   "execution_count": null,
   "id": "aa743571",
   "metadata": {},
   "outputs": [],
   "source": []
  }
 ],
 "metadata": {
  "kernelspec": {
   "display_name": "Python 3",
   "language": "python",
   "name": "python3"
  },
  "language_info": {
   "codemirror_mode": {
    "name": "ipython",
    "version": 3
   },
   "file_extension": ".py",
   "mimetype": "text/x-python",
   "name": "python",
   "nbconvert_exporter": "python",
   "pygments_lexer": "ipython3",
   "version": "3.8.8"
  }
 },
 "nbformat": 4,
 "nbformat_minor": 5
}
