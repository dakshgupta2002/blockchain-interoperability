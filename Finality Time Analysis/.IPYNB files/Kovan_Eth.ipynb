{
 "cells": [
  {
   "cell_type": "code",
   "execution_count": 1,
   "id": "8eba5d0e",
   "metadata": {},
   "outputs": [],
   "source": [
    "import math\n",
    "import pandas as pd\n",
    "import numpy as np\n",
    "import matplotlib.pyplot as plt"
   ]
  },
  {
   "cell_type": "code",
   "execution_count": 2,
   "id": "6820844f",
   "metadata": {},
   "outputs": [
    {
     "data": {
      "text/plain": [
       "(1457, 10)"
      ]
     },
     "execution_count": 2,
     "metadata": {},
     "output_type": "execute_result"
    }
   ],
   "source": [
    "result = pd.read_csv(\"kovanEth.csv\")\n",
    "result.shape"
   ]
  },
  {
   "cell_type": "code",
   "execution_count": 3,
   "id": "b188480a",
   "metadata": {},
   "outputs": [
    {
     "data": {
      "text/html": [
       "<div>\n",
       "<style scoped>\n",
       "    .dataframe tbody tr th:only-of-type {\n",
       "        vertical-align: middle;\n",
       "    }\n",
       "\n",
       "    .dataframe tbody tr th {\n",
       "        vertical-align: top;\n",
       "    }\n",
       "\n",
       "    .dataframe thead th {\n",
       "        text-align: right;\n",
       "    }\n",
       "</style>\n",
       "<table border=\"1\" class=\"dataframe\">\n",
       "  <thead>\n",
       "    <tr style=\"text-align: right;\">\n",
       "      <th></th>\n",
       "      <th>block_confirmations</th>\n",
       "      <th>timestamp</th>\n",
       "    </tr>\n",
       "  </thead>\n",
       "  <tbody>\n",
       "    <tr>\n",
       "      <th>0</th>\n",
       "      <td>51 Block Confirmations</td>\n",
       "      <td>5 mins ago (Jun-10-2022 05:40:56 AM +UTC)</td>\n",
       "    </tr>\n",
       "    <tr>\n",
       "      <th>1</th>\n",
       "      <td>44 Block Confirmations</td>\n",
       "      <td>4 mins ago (Jun-10-2022 05:43:12 AM +UTC)</td>\n",
       "    </tr>\n",
       "    <tr>\n",
       "      <th>2</th>\n",
       "      <td>49 Block Confirmations</td>\n",
       "      <td>5 mins ago (Jun-10-2022 05:40:24 AM +UTC)</td>\n",
       "    </tr>\n",
       "    <tr>\n",
       "      <th>3</th>\n",
       "      <td>47 Block Confirmations</td>\n",
       "      <td>4 mins ago (Jun-10-2022 05:42:24 AM +UTC)</td>\n",
       "    </tr>\n",
       "    <tr>\n",
       "      <th>4</th>\n",
       "      <td>47 Block Confirmations</td>\n",
       "      <td>4 mins ago (Jun-10-2022 05:39:56 AM +UTC)</td>\n",
       "    </tr>\n",
       "    <tr>\n",
       "      <th>5</th>\n",
       "      <td>50 Block Confirmations</td>\n",
       "      <td>5 mins ago (Jun-10-2022 05:40:16 AM +UTC)</td>\n",
       "    </tr>\n",
       "    <tr>\n",
       "      <th>6</th>\n",
       "      <td>43 Block Confirmations</td>\n",
       "      <td>4 mins ago (Jun-10-2022 05:43:40 AM +UTC)</td>\n",
       "    </tr>\n",
       "    <tr>\n",
       "      <th>7</th>\n",
       "      <td>50 Block Confirmations</td>\n",
       "      <td>5 mins ago (Jun-10-2022 05:42:00 AM +UTC)</td>\n",
       "    </tr>\n",
       "    <tr>\n",
       "      <th>8</th>\n",
       "      <td>48 Block Confirmations</td>\n",
       "      <td>5 mins ago (Jun-10-2022 05:40:32 AM +UTC)</td>\n",
       "    </tr>\n",
       "    <tr>\n",
       "      <th>9</th>\n",
       "      <td>49 Block Confirmations</td>\n",
       "      <td>4 mins ago (Jun-10-2022 05:42:08 AM +UTC)</td>\n",
       "    </tr>\n",
       "  </tbody>\n",
       "</table>\n",
       "</div>"
      ],
      "text/plain": [
       "      block_confirmations                                  timestamp\n",
       "0  51 Block Confirmations  5 mins ago (Jun-10-2022 05:40:56 AM +UTC)\n",
       "1  44 Block Confirmations  4 mins ago (Jun-10-2022 05:43:12 AM +UTC)\n",
       "2  49 Block Confirmations  5 mins ago (Jun-10-2022 05:40:24 AM +UTC)\n",
       "3  47 Block Confirmations  4 mins ago (Jun-10-2022 05:42:24 AM +UTC)\n",
       "4  47 Block Confirmations  4 mins ago (Jun-10-2022 05:39:56 AM +UTC)\n",
       "5  50 Block Confirmations  5 mins ago (Jun-10-2022 05:40:16 AM +UTC)\n",
       "6  43 Block Confirmations  4 mins ago (Jun-10-2022 05:43:40 AM +UTC)\n",
       "7  50 Block Confirmations  5 mins ago (Jun-10-2022 05:42:00 AM +UTC)\n",
       "8  48 Block Confirmations  5 mins ago (Jun-10-2022 05:40:32 AM +UTC)\n",
       "9  49 Block Confirmations  4 mins ago (Jun-10-2022 05:42:08 AM +UTC)"
      ]
     },
     "execution_count": 3,
     "metadata": {},
     "output_type": "execute_result"
    }
   ],
   "source": [
    "kk = result[[\"block_confirmations\",\"timestamp\"]]\n",
    "kk.head(10)"
   ]
  },
  {
   "cell_type": "code",
   "execution_count": 4,
   "id": "7d39aaf1",
   "metadata": {},
   "outputs": [],
   "source": [
    "def solve(k):\n",
    "    i=0\n",
    "    r=\"\"\n",
    "    while k[i]!=\" \":\n",
    "        r+=k[i]\n",
    "        i+=1\n",
    "    return int(r)"
   ]
  },
  {
   "cell_type": "code",
   "execution_count": 5,
   "id": "c6803d18",
   "metadata": {},
   "outputs": [],
   "source": [
    "arr = []\n",
    "for i in range(result.shape[0]):\n",
    "    d = solve(result['block_confirmations'].iloc[i])\n",
    "    t = solve (result['timestamp'].iloc[i]) * 60\n",
    "    arr.append( 7 * t / d )"
   ]
  },
  {
   "cell_type": "code",
   "execution_count": 11,
   "id": "fdb7b430",
   "metadata": {},
   "outputs": [
    {
     "data": {
      "text/html": [
       "<div>\n",
       "<style scoped>\n",
       "    .dataframe tbody tr th:only-of-type {\n",
       "        vertical-align: middle;\n",
       "    }\n",
       "\n",
       "    .dataframe tbody tr th {\n",
       "        vertical-align: top;\n",
       "    }\n",
       "\n",
       "    .dataframe thead th {\n",
       "        text-align: right;\n",
       "    }\n",
       "</style>\n",
       "<table border=\"1\" class=\"dataframe\">\n",
       "  <thead>\n",
       "    <tr style=\"text-align: right;\">\n",
       "      <th></th>\n",
       "      <th>0</th>\n",
       "    </tr>\n",
       "  </thead>\n",
       "  <tbody>\n",
       "    <tr>\n",
       "      <th>count</th>\n",
       "      <td>1457.000000</td>\n",
       "    </tr>\n",
       "    <tr>\n",
       "      <th>mean</th>\n",
       "      <td>37.414094</td>\n",
       "    </tr>\n",
       "    <tr>\n",
       "      <th>std</th>\n",
       "      <td>3.531674</td>\n",
       "    </tr>\n",
       "    <tr>\n",
       "      <th>min</th>\n",
       "      <td>27.540984</td>\n",
       "    </tr>\n",
       "    <tr>\n",
       "      <th>25%</th>\n",
       "      <td>35.000000</td>\n",
       "    </tr>\n",
       "    <tr>\n",
       "      <th>50%</th>\n",
       "      <td>37.333333</td>\n",
       "    </tr>\n",
       "    <tr>\n",
       "      <th>75%</th>\n",
       "      <td>40.000000</td>\n",
       "    </tr>\n",
       "    <tr>\n",
       "      <th>max</th>\n",
       "      <td>48.000000</td>\n",
       "    </tr>\n",
       "  </tbody>\n",
       "</table>\n",
       "</div>"
      ],
      "text/plain": [
       "                 0\n",
       "count  1457.000000\n",
       "mean     37.414094\n",
       "std       3.531674\n",
       "min      27.540984\n",
       "25%      35.000000\n",
       "50%      37.333333\n",
       "75%      40.000000\n",
       "max      48.000000"
      ]
     },
     "execution_count": 11,
     "metadata": {},
     "output_type": "execute_result"
    }
   ],
   "source": [
    "df = pd.DataFrame(arr)\n",
    "df.describe()\n",
    "\n",
    "# 7 CONFIRMATIONS"
   ]
  },
  {
   "cell_type": "code",
   "execution_count": 12,
   "id": "bc365682",
   "metadata": {},
   "outputs": [
    {
     "data": {
      "image/png": "[encoded data removed]",
      "text/plain": [
       "<Figure size 432x288 with 1 Axes>"
      ]
     },
     "metadata": {
      "needs_background": "light"
     },
     "output_type": "display_data"
    }
   ],
   "source": [
    "plt.hist(arr, bins = [25,27,29,31,33,35,37,39,41,43,45,47,49]) \n",
    "plt.title(\"histogram\") \n",
    "plt.show()"
   ]
  },
  {
   "cell_type": "code",
   "execution_count": 13,
   "id": "374b01a3",
   "metadata": {},
   "outputs": [
    {
     "data": {
      "text/plain": [
       "array([[<AxesSubplot:title={'center':'0'}>]], dtype=object)"
      ]
     },
     "execution_count": 13,
     "metadata": {},
     "output_type": "execute_result"
    },
    {
     "data": {
      "image/png": "[encoded data removed]",
      "text/plain": [
       "<Figure size 432x288 with 1 Axes>"
      ]
     },
     "metadata": {
      "needs_background": "light"
     },
     "output_type": "display_data"
    }
   ],
   "source": [
    "df.hist(bins=80)"
   ]
  },
  {
   "cell_type": "code",
   "execution_count": 16,
   "id": "273927aa",
   "metadata": {},
   "outputs": [],
   "source": [
    "ar = []\n",
    "for i in range(result.shape[0]):\n",
    "    d = solve(result['block_confirmations'].iloc[i])\n",
    "    t = solve (result['timestamp'].iloc[i]) * 60\n",
    "    ar.append( 12 * t / d )"
   ]
  },
  {
   "cell_type": "code",
   "execution_count": 17,
   "id": "01980919",
   "metadata": {},
   "outputs": [
    {
     "data": {
      "text/html": [
       "<div>\n",
       "<style scoped>\n",
       "    .dataframe tbody tr th:only-of-type {\n",
       "        vertical-align: middle;\n",
       "    }\n",
       "\n",
       "    .dataframe tbody tr th {\n",
       "        vertical-align: top;\n",
       "    }\n",
       "\n",
       "    .dataframe thead th {\n",
       "        text-align: right;\n",
       "    }\n",
       "</style>\n",
       "<table border=\"1\" class=\"dataframe\">\n",
       "  <thead>\n",
       "    <tr style=\"text-align: right;\">\n",
       "      <th></th>\n",
       "      <th>0</th>\n",
       "    </tr>\n",
       "  </thead>\n",
       "  <tbody>\n",
       "    <tr>\n",
       "      <th>count</th>\n",
       "      <td>1457.000000</td>\n",
       "    </tr>\n",
       "    <tr>\n",
       "      <th>mean</th>\n",
       "      <td>64.138447</td>\n",
       "    </tr>\n",
       "    <tr>\n",
       "      <th>std</th>\n",
       "      <td>6.054298</td>\n",
       "    </tr>\n",
       "    <tr>\n",
       "      <th>min</th>\n",
       "      <td>47.213115</td>\n",
       "    </tr>\n",
       "    <tr>\n",
       "      <th>25%</th>\n",
       "      <td>60.000000</td>\n",
       "    </tr>\n",
       "    <tr>\n",
       "      <th>50%</th>\n",
       "      <td>64.000000</td>\n",
       "    </tr>\n",
       "    <tr>\n",
       "      <th>75%</th>\n",
       "      <td>68.571429</td>\n",
       "    </tr>\n",
       "    <tr>\n",
       "      <th>max</th>\n",
       "      <td>82.285714</td>\n",
       "    </tr>\n",
       "  </tbody>\n",
       "</table>\n",
       "</div>"
      ],
      "text/plain": [
       "                 0\n",
       "count  1457.000000\n",
       "mean     64.138447\n",
       "std       6.054298\n",
       "min      47.213115\n",
       "25%      60.000000\n",
       "50%      64.000000\n",
       "75%      68.571429\n",
       "max      82.285714"
      ]
     },
     "execution_count": 17,
     "metadata": {},
     "output_type": "execute_result"
    }
   ],
   "source": [
    "df = pd.DataFrame(ar)\n",
    "df.describe()\n",
    "\n",
    "# 12 CONFIRMATIONS"
   ]
  },
  {
   "cell_type": "code",
   "execution_count": 20,
   "id": "a94f072f",
   "metadata": {},
   "outputs": [
    {
     "data": {
      "image/png": "[encoded data removed]",
      "text/plain": [
       "<Figure size 432x288 with 1 Axes>"
      ]
     },
     "metadata": {
      "needs_background": "light"
     },
     "output_type": "display_data"
    }
   ],
   "source": [
    "plt.hist(ar, bins = [45,50,53,55,57,59,61,63,65,67,69,71,74,77,80]) \n",
    "plt.title(\"histogram\") \n",
    "plt.show()"
   ]
  },
  {
   "cell_type": "code",
   "execution_count": 21,
   "id": "b82411b5",
   "metadata": {},
   "outputs": [
    {
     "data": {
      "text/plain": [
       "array([[<AxesSubplot:title={'center':'0'}>]], dtype=object)"
      ]
     },
     "execution_count": 21,
     "metadata": {},
     "output_type": "execute_result"
    },
    {
     "data": {
      "image/png": "[encoded data removed]",
      "text/plain": [
       "<Figure size 432x288 with 1 Axes>"
      ]
     },
     "metadata": {
      "needs_background": "light"
     },
     "output_type": "display_data"
    }
   ],
   "source": [
    "df.hist(bins=80)"
   ]
  },
  {
   "cell_type": "code",
   "execution_count": null,
   "id": "b18a0185",
   "metadata": {},
   "outputs": [],
   "source": []
  }
 ],
 "metadata": {
  "kernelspec": {
   "display_name": "Python 3",
   "language": "python",
   "name": "python3"
  },
  "language_info": {
   "codemirror_mode": {
    "name": "ipython",
    "version": 3
   },
   "file_extension": ".py",
   "mimetype": "text/x-python",
   "name": "python",
   "nbconvert_exporter": "python",
   "pygments_lexer": "ipython3",
   "version": "3.8.8"
  }
 },
 "nbformat": 4,
 "nbformat_minor": 5
}
